{
  "cells": [
    {
      "cell_type": "markdown",
      "metadata": {
        "id": "view-in-github",
        "colab_type": "text"
      },
      "source": [
        "<a href=\"https://colab.research.google.com/github/arentij/git_test_rep/blob/master/e_cgs_problem.ipynb\" target=\"_parent\"><img src=\"https://colab.research.google.com/assets/colab-badge.svg\" alt=\"Open In Colab\"/></a>"
      ]
    },
    {
      "cell_type": "code",
      "execution_count": 1,
      "id": "48f2a72a",
      "metadata": {
        "id": "48f2a72a"
      },
      "outputs": [],
      "source": [
        "from sympy.physics.units import convert_to\n",
        "from sympy.physics.units.systems.cgs import cgs_gauss\n",
        "from sympy.physics.units import coulomb, ampere, second as sec, centimeter as cm\n",
        "from sympy.physics.units.definitions.unit_definitions import statcoulomb as esu, statvolt, erg, dyne\n",
        "from sympy.physics.units import farad, henry, ohm, volt, newton, joule, meter"
      ]
    },
    {
      "cell_type": "markdown",
      "source": [
        "### The main problem is probably in definition of charge in CGS units, it's $10^2$ off"
      ],
      "metadata": {
        "id": "xrywWdb2ICis"
      },
      "id": "xrywWdb2ICis"
    },
    {
      "cell_type": "code",
      "source": [
        "convert_to(coulomb, esu, unit_system='cgs_gauss').n() # must be x100 that."
      ],
      "metadata": {
        "colab": {
          "base_uri": "https://localhost:8080/",
          "height": 38
        },
        "id": "gMuKE0HN5OjB",
        "outputId": "0251a004-6d1d-49be-d94d-3616e250f9b3"
      },
      "id": "gMuKE0HN5OjB",
      "execution_count": 13,
      "outputs": [
        {
          "output_type": "execute_result",
          "data": {
            "text/plain": [
              "29979245.8*statcoulomb"
            ],
            "text/latex": "$\\displaystyle 29979245.8 \\text{statC}$"
          },
          "metadata": {},
          "execution_count": 13
        }
      ]
    },
    {
      "cell_type": "markdown",
      "source": [
        "As the result current has the same problem"
      ],
      "metadata": {
        "id": "3ZYUSBfaIYdU"
      },
      "id": "3ZYUSBfaIYdU"
    },
    {
      "cell_type": "code",
      "source": [
        "convert_to(ampere, esu/sec, unit_system='cgs_gauss').n() # must be x100 that."
      ],
      "metadata": {
        "colab": {
          "base_uri": "https://localhost:8080/",
          "height": 52
        },
        "id": "631aSWDsBT1y",
        "outputId": "14fbf4df-79e8-480b-cde5-067cf0d9f300"
      },
      "id": "631aSWDsBT1y",
      "execution_count": 3,
      "outputs": [
        {
          "output_type": "execute_result",
          "data": {
            "text/plain": [
              "29979245.8*statcoulomb/second"
            ],
            "text/latex": "$\\displaystyle \\frac{29979245.8 \\text{statC}}{\\text{s}}$"
          },
          "metadata": {},
          "execution_count": 3
        }
      ]
    },
    {
      "cell_type": "markdown",
      "source": [
        "Other electrical units are proportianal to $charge^2$ and are $10^4$ off.\n",
        "\n",
        "Correct numbers:\n",
        "\n",
        "* Capacitance: $1\\ farad \\approx$ $9 \\cdot 10^{11}cm$\n",
        "\n",
        "* Inductance: $1\\ henry \\approx$ $1.113 \\cdot 10^{-12} sec^2/cm$\n",
        "\n",
        "* Resistance: $1\\ ohm \\approx$ $1.113 \\cdot 10^{-12} sec/cm$\n",
        "\n",
        "Sympy:"
      ],
      "metadata": {
        "id": "yewSss3iEpS9"
      },
      "id": "yewSss3iEpS9"
    },
    {
      "cell_type": "code",
      "source": [
        "convert_to(farad, cm, unit_system='cgs_gauss').n() # must be x10000"
      ],
      "metadata": {
        "colab": {
          "base_uri": "https://localhost:8080/",
          "height": 38
        },
        "id": "1yYxGTNTFarq",
        "outputId": "f1dd198f-3657-45e4-b6de-c426a0317101"
      },
      "id": "1yYxGTNTFarq",
      "execution_count": 4,
      "outputs": [
        {
          "output_type": "execute_result",
          "data": {
            "text/plain": [
              "89875517.8736818*centimeter"
            ],
            "text/latex": "$\\displaystyle 89875517.8736818 \\text{cm}$"
          },
          "metadata": {},
          "execution_count": 4
        }
      ]
    },
    {
      "cell_type": "code",
      "source": [
        "convert_to(henry, sec**2/cm, unit_system='cgs_gauss').n() # must be 10^-12"
      ],
      "metadata": {
        "colab": {
          "base_uri": "https://localhost:8080/",
          "height": 54
        },
        "id": "XaA5pIriGjkH",
        "outputId": "63889c4d-c3c4-4016-c455-00d7cdd53613"
      },
      "id": "XaA5pIriGjkH",
      "execution_count": 5,
      "outputs": [
        {
          "output_type": "execute_result",
          "data": {
            "text/plain": [
              "1.11265005605362e-8*second**2/centimeter"
            ],
            "text/latex": "$\\displaystyle \\frac{1.11265005605362 \\cdot 10^{-8} \\text{s}^{2}}{\\text{cm}}$"
          },
          "metadata": {},
          "execution_count": 5
        }
      ]
    },
    {
      "cell_type": "code",
      "source": [
        "convert_to(ohm, sec/cm, unit_system='cgs_gauss').n() # must be 10^-12"
      ],
      "metadata": {
        "colab": {
          "base_uri": "https://localhost:8080/",
          "height": 54
        },
        "id": "ULu3eqayG9Gy",
        "outputId": "e5dc2577-95b0-43b4-9f6e-25be73f53b00"
      },
      "id": "ULu3eqayG9Gy",
      "execution_count": 6,
      "outputs": [
        {
          "output_type": "execute_result",
          "data": {
            "text/plain": [
              "1.11265005605362e-8*second/centimeter"
            ],
            "text/latex": "$\\displaystyle \\frac{1.11265005605362 \\cdot 10^{-8} \\text{s}}{\\text{cm}}$"
          },
          "metadata": {},
          "execution_count": 6
        }
      ]
    },
    {
      "cell_type": "markdown",
      "source": [
        "### Unrelated problem is in potential (voltage) conversion\n",
        "\n",
        "We know that 300 V $\\approx$ 1 statvolt, but sympy give opposite 1 V $\\approx$ 300 statvolt"
      ],
      "metadata": {
        "id": "-JTaQHtYHsfF"
      },
      "id": "-JTaQHtYHsfF"
    },
    {
      "cell_type": "code",
      "source": [
        "convert_to(300*volt, statvolt, unit_system='cgs_gauss').n() # must be about 1"
      ],
      "metadata": {
        "colab": {
          "base_uri": "https://localhost:8080/",
          "height": 38
        },
        "id": "E6mRWCeSHYvK",
        "outputId": "b187d67a-a6cb-4b00-dfd8-7edc4b28cae5"
      },
      "id": "E6mRWCeSHYvK",
      "execution_count": 14,
      "outputs": [
        {
          "output_type": "execute_result",
          "data": {
            "text/plain": [
              "89937.7374*statvolt"
            ],
            "text/latex": "$\\displaystyle 89937.7374 \\text{statvolt}$"
          },
          "metadata": {},
          "execution_count": 14
        }
      ]
    },
    {
      "cell_type": "code",
      "source": [
        "convert_to(statvolt, volt, unit_system='cgs_gauss').n() # must be about 300"
      ],
      "metadata": {
        "colab": {
          "base_uri": "https://localhost:8080/",
          "height": 38
        },
        "id": "sZfDqJnmH35t",
        "outputId": "c578daa5-8991-4d75-e88d-e0b4d7a11612"
      },
      "id": "sZfDqJnmH35t",
      "execution_count": 15,
      "outputs": [
        {
          "output_type": "execute_result",
          "data": {
            "text/plain": [
              "0.00333564095198152*volt"
            ],
            "text/latex": "$\\displaystyle 0.00333564095198152 \\text{V}$"
          },
          "metadata": {},
          "execution_count": 15
        }
      ]
    },
    {
      "cell_type": "markdown",
      "source": [
        "### Another unrelated problem\n",
        "\n",
        "* **Votage/potential:**  SI: volt is the same as joule/coulomb; CGS: statvolt is the same as erg/statcoulomb\n",
        "\n",
        "* **Electric field:** SI: volt/meter is the same as newton/coulomb; CGS: statvolt/cm is the same as dyne/statcoulomb"
      ],
      "metadata": {
        "id": "eL_JaYmyKJH2"
      },
      "id": "eL_JaYmyKJH2"
    },
    {
      "cell_type": "code",
      "source": [
        "convert_to(volt, joule/coulomb) # this is simple and it works"
      ],
      "metadata": {
        "colab": {
          "base_uri": "https://localhost:8080/",
          "height": 52
        },
        "id": "WnalRbQrH607",
        "outputId": "c880f568-b2e8-46c1-b625-1719882cb797"
      },
      "id": "WnalRbQrH607",
      "execution_count": 9,
      "outputs": [
        {
          "output_type": "execute_result",
          "data": {
            "text/plain": [
              "joule/coulomb"
            ],
            "text/latex": "$\\displaystyle \\frac{\\text{J}}{\\text{C}}$"
          },
          "metadata": {},
          "execution_count": 9
        }
      ]
    },
    {
      "cell_type": "code",
      "source": [
        "convert_to(statvolt, erg/esu, unit_system='cgs_gauss') # this does not work"
      ],
      "metadata": {
        "colab": {
          "base_uri": "https://localhost:8080/",
          "height": 60
        },
        "id": "EpYvDhP0KbGX",
        "outputId": "fe19a55b-52f9-417d-ff4c-e6d6012828bc"
      },
      "id": "EpYvDhP0KbGX",
      "execution_count": 10,
      "outputs": [
        {
          "output_type": "execute_result",
          "data": {
            "text/plain": [
              "10**(2/3)*erg**(2/3)/(10*statcoulomb**(2/3))"
            ],
            "text/latex": "$\\displaystyle \\frac{10^{\\frac{2}{3}} \\text{erg}^{\\frac{2}{3}}}{10 \\text{statC}^{\\frac{2}{3}}}$"
          },
          "metadata": {},
          "execution_count": 10
        }
      ]
    },
    {
      "cell_type": "code",
      "source": [
        "convert_to(volt/meter, newton/coulomb) # this is simple and it works"
      ],
      "metadata": {
        "colab": {
          "base_uri": "https://localhost:8080/",
          "height": 52
        },
        "id": "ulIondxTKdpX",
        "outputId": "219e653c-9720-4c31-ab1c-f3ebb7f715b3"
      },
      "id": "ulIondxTKdpX",
      "execution_count": 11,
      "outputs": [
        {
          "output_type": "execute_result",
          "data": {
            "text/plain": [
              "newton/coulomb"
            ],
            "text/latex": "$\\displaystyle \\frac{\\text{N}}{\\text{C}}$"
          },
          "metadata": {},
          "execution_count": 11
        }
      ]
    },
    {
      "cell_type": "code",
      "source": [
        "convert_to(statvolt/cm, dyne/esu, unit_system='cgs_gauss') # this does not work"
      ],
      "metadata": {
        "colab": {
          "base_uri": "https://localhost:8080/",
          "height": 62
        },
        "id": "b1s_BYJ6KhgG",
        "outputId": "a9cb8916-237a-47a8-873f-0a5617b2d251"
      },
      "id": "b1s_BYJ6KhgG",
      "execution_count": 12,
      "outputs": [
        {
          "output_type": "execute_result",
          "data": {
            "text/plain": [
              "10**(2/3)*dyne**(4/3)/(10*statcoulomb**(4/3))"
            ],
            "text/latex": "$\\displaystyle \\frac{10^{\\frac{2}{3}} \\text{dyne}^{\\frac{4}{3}}}{10 \\text{statC}^{\\frac{4}{3}}}$"
          },
          "metadata": {},
          "execution_count": 12
        }
      ]
    }
  ],
  "metadata": {
    "kernelspec": {
      "display_name": "Python 3 (ipykernel)",
      "language": "python",
      "name": "python3"
    },
    "language_info": {
      "codemirror_mode": {
        "name": "ipython",
        "version": 3
      },
      "file_extension": ".py",
      "mimetype": "text/x-python",
      "name": "python",
      "nbconvert_exporter": "python",
      "pygments_lexer": "ipython3",
      "version": "3.7.3"
    },
    "colab": {
      "provenance": [],
      "include_colab_link": true
    }
  },
  "nbformat": 4,
  "nbformat_minor": 5
}